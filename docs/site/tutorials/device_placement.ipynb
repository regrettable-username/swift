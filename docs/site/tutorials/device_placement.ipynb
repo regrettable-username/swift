{
 "cells": [
  {
   "cell_type": "markdown",
   "metadata": {
    "colab_type": "text",
    "id": "QyCcF45zBQ3E"
   },
   "source": [
    "##### Copyright 2018 The TensorFlow Authors. [Licensed under the Apache License, Version 2.0](#scrollTo=y_UVSRtBBsJk)."
   ]
  },
  {
   "cell_type": "code",
   "execution_count": null,
   "metadata": {
    "colab": {},
    "colab_type": "code",
    "id": "CPII1rGR2rF9",
    "scrolled": true
   },
   "outputs": [],
   "source": [
    "#@title Licensed under the Apache License, Version 2.0 (the \"License\"); { display-mode: \"form\" }\n",
    "// Licensed under the Apache License, Version 2.0 (the \"License\");\n",
    "// you may not use this file except in compliance with the License.\n",
    "// You may obtain a copy of the License at\n",
    "//\n",
    "// https://www.apache.org/licenses/LICENSE-2.0\n",
    "//\n",
    "// Unless required by applicable law or agreed to in writing, software\n",
    "// distributed under the License is distributed on an \"AS IS\" BASIS,\n",
    "// WITHOUT WARRANTIES OR CONDITIONS OF ANY KIND, either express or implied.\n",
    "// See the License for the specific language governing permissions and\n",
    "// limitations under the License."
   ]
  },
  {
   "cell_type": "markdown",
   "metadata": {
    "colab_type": "text",
    "id": "zBH72IXMJ3JJ"
   },
   "source": [
    "<table class=\"tfo-notebook-buttons\" align=\"left\">\n",
    "  <td>\n",
    "    <a target=\"_blank\" href=\"https://www.tensorflow.org/swift/tutorials/model_training_walkthrough\"><img src=\"https://www.tensorflow.org/images/tf_logo_32px.png\" />View on TensorFlow.org</a>\n",
    "  </td>\n",
    "  <td>\n",
    "    <a target=\"_blank\" href=\"https://colab.research.google.com/github/tensorflow/swift/blob/master/docs/site/tutorials/model_training_walkthrough.ipynb\"><img src=\"https://www.tensorflow.org/images/colab_logo_32px.png\" />Run in Google Colab</a>\n",
    "  </td>\n",
    "  <td>\n",
    "    <a target=\"_blank\" href=\"https://github.com/tensorflow/swift/blob/master/docs/site/tutorials/model_training_walkthrough.ipynb\"><img src=\"https://www.tensorflow.org/images/GitHub-Mark-32px.png\" />View source on GitHub</a>\n",
    "  </td>\n",
    "</table>"
   ]
  },
  {
   "cell_type": "markdown",
   "metadata": {
    "colab_type": "text",
    "id": "JtEZ1pCPn--z"
   },
   "source": [
    "# Device Placement APIs Tutorial"
   ]
  },
  {
   "cell_type": "markdown",
   "metadata": {},
   "source": [
    "This tutorial demonstrates how to use the device placement APIs in Swift for TensorFlow. Device placement APIs allow you to run operations on a specific device, for example, on a CPU or a GPU."
   ]
  },
  {
   "cell_type": "markdown",
   "metadata": {
    "colab_type": "text",
    "id": "1J3AuPBT9gyR"
   },
   "source": [
    "### Configure imports\n",
    "\n",
    "Import TensorFlow."
   ]
  },
  {
   "cell_type": "code",
   "execution_count": 3,
   "metadata": {
    "colab": {},
    "colab_type": "code",
    "id": "wr5A5WvthvZ0",
    "scrolled": true
   },
   "outputs": [],
   "source": [
    "import TensorFlow\n",
    "import Dispatch"
   ]
  },
  {
   "cell_type": "markdown",
   "metadata": {},
   "source": [
    "### Set Up Some Timing Utility Functions"
   ]
  },
  {
   "cell_type": "markdown",
   "metadata": {},
   "source": [
    "We'll use this function to run our code multiple times and return the median execution time."
   ]
  },
  {
   "cell_type": "code",
   "execution_count": 4,
   "metadata": {},
   "outputs": [],
   "source": [
    "func getMedianExecutionTime(iterationCount: UInt = 10, _ verbose:Bool = false, _ function: () -> ()) -> Double {\n",
    "    \n",
    "    // An array to keep track of each execution timing.\n",
    "    var timings = Array<Double>()\n",
    "    \n",
    "    // Run the test iterationCount times, storing each timing in our array.\n",
    "    for i in 0..<iterationCount {\n",
    "        let start = DispatchTime.now()\n",
    "        function()\n",
    "        let end = DispatchTime.now()\n",
    "        timings.append(Double(end.uptimeNanoseconds - start.uptimeNanoseconds))        \n",
    "    }\n",
    "    \n",
    "    // If verbose mode is enabled, print every single timing.\n",
    "    if verbose {\n",
    "        print(\"Timings: \\(timings.map() {getTimeString($0)}))\")        \n",
    "    }\n",
    "\n",
    "    // Compute and return the median time.\n",
    "    let n = timings.count\n",
    "    let sortedTimings = timings.sorted()\n",
    "    var medianTime = 0.0\n",
    "    \n",
    "    if n % 2 == 0 {    \n",
    "        medianTime = (sortedTimings[n / 2] + sortedTimings[(n / 2) - 1]) / 2.0\n",
    "    } else {\n",
    "        medianTime = sortedTimings[n / 2 - 1]\n",
    "    }\n",
    "    \n",
    "    return medianTime\n",
    "}\n",
    "\n",
    "// Used for printing the result in a useful manner.\n",
    "func getTimeString(_ nanoseconds: Double) -> String {\n",
    "    if nanoseconds < 1e3 {\n",
    "        return \"\\(nanoseconds) ns\"\n",
    "    } else if nanoseconds < 1e6 {\n",
    "        return \"\\(nanoseconds/1e3) µs\"\n",
    "    } else if nanoseconds < 1e9 {\n",
    "        return \"\\(nanoseconds/1e6) ms\"\n",
    "    } else {\n",
    "        return \"\\(nanoseconds/1e9) seconds\"\n",
    "    }\n",
    "}"
   ]
  },
  {
   "cell_type": "markdown",
   "metadata": {},
   "source": [
    "### Define a Computation Operation"
   ]
  },
  {
   "cell_type": "markdown",
   "metadata": {},
   "source": [
    "We'll reuse the same operation for each test for consistency. Multiply two 1000 by 1000 tensors."
   ]
  },
  {
   "cell_type": "code",
   "execution_count": 5,
   "metadata": {},
   "outputs": [],
   "source": [
    "func runTestComputation() -> Tensor<Float> {\n",
    "    // Create two 1000x1000 tensors sampled from a random normal distribution.\n",
    "    let x = Tensor<Float>(randomNormal: [1000, 1000])\n",
    "    let w = Tensor<Float>(randomNormal: [1000, 1000])\n",
    "    \n",
    "    // Multiply them together and return the result.\n",
    "    return w * x\n",
    "}"
   ]
  },
  {
   "cell_type": "markdown",
   "metadata": {},
   "source": [
    "### Use the `withDevice(_:_:perform:)` API to Run on the CPU"
   ]
  },
  {
   "cell_type": "code",
   "execution_count": 4,
   "metadata": {},
   "outputs": [
    {
     "name": "stdout",
     "output_type": "stream",
     "text": [
      "Median CPU Timing: 3.9170575 ms\n",
      "Mean of Result Tensor: 0.0005039215\n"
     ]
    }
   ],
   "source": [
    "// Let's hold on to the result for later use to simulate a realistic scenario.\n",
    "var cpu_result:Tensor<Float>?\n",
    "\n",
    "// Wrap everything in a timing block to get the median execution time.\n",
    "var cpu_timing = getMedianExecutionTime { \n",
    "    \n",
    "    // This will execute the operation on the CPU.\n",
    "    cpu_result = withDevice(.cpu, 0) { () -> Tensor<Float> in\n",
    "        return runTestComputation()\n",
    "    }\n",
    "}\n",
    "\n",
    "// Print the median time it took on the CPU.\n",
    "print(\"Median CPU Timing: \\(getTimeString(cpu_timing))\")\n",
    "\n",
    "// Print the scalar-valued mean of the elements within the resulting Tensor.\n",
    "print(\"Mean of Result Tensor: \\(cpu_result!.mean())\")"
   ]
  },
  {
   "cell_type": "markdown",
   "metadata": {},
   "source": [
    "### Now Try Running on the GPU"
   ]
  },
  {
   "cell_type": "markdown",
   "metadata": {},
   "source": [
    "***Note:*** In order to use a GPU in Colaboratory, you need to:\n",
    "1. Go to ***Runtime > Change Runtime Type***\n",
    "2. Click on the Dropdown Menu titled ***'Hardware accelerator'***.\n",
    "3. Select ***GPU*** from the list.\n",
    "4. Click the ***Save*** button at the bottom of the dialog.\n",
    "5. Ensure that your notebook has the 'Connected' status in the upper-righthand corner of the notebook."
   ]
  },
  {
   "cell_type": "code",
   "execution_count": 5,
   "metadata": {},
   "outputs": [
    {
     "name": "stdout",
     "output_type": "stream",
     "text": [
      "Median GPU Timing: 179.83 µs\n",
      "Mean of Result Tensor: 0.000121611134\n"
     ]
    }
   ],
   "source": [
    "// Just like before, let's hold onto the result.\n",
    "var gpu_result:Tensor<Float>?\n",
    "\n",
    "let gpu_timing = getMedianExecutionTime { \n",
    "    gpu_result = withDevice(.gpu, 0) { () -> Tensor<Float> in\n",
    "        return runTestComputation()\n",
    "    }\n",
    "}\n",
    "\n",
    "// Print the median time it took on the GPU.\n",
    "print(\"Median GPU Timing: \\(getTimeString(gpu_timing))\")\n",
    "\n",
    "// Print the scalar-valued mean of the elements within the resulting Tensor.\n",
    "print(\"Mean of Result Tensor: \\(gpu_result!.mean())\")"
   ]
  },
  {
   "cell_type": "markdown",
   "metadata": {},
   "source": [
    "### Using `withDefaultDevice(perform:)`"
   ]
  },
  {
   "cell_type": "markdown",
   "metadata": {},
   "source": [
    "You can use `withDefaultDevice(perform:)` to tell Swift for TensorFlow to use the default device placement behavior. For example, if you're in the middle of a  `withDevice(_:_:perform:)` call on the CPU, you can nest a  `withDefaultDevice(perform:)` call to ensure an operation is performed with the default device placement behavior."
   ]
  },
  {
   "cell_type": "code",
   "execution_count": 8,
   "metadata": {},
   "outputs": [
    {
     "name": "stdout",
     "output_type": "stream",
     "text": [
      "CPU: 3.658211 ms Result Mean: -0.0007472881\r\n",
      "Default: 95.761 µs Result Mean: -0.0014350368\r\n"
     ]
    }
   ],
   "source": [
    "// Start out on the CPU.\n",
    "withDevice(.cpu, 0) { \n",
    "    \n",
    "    // We'll save the results for later.\n",
    "    var cpu_result:Tensor<Float>? \n",
    "    var default_result:Tensor<Float>?\n",
    "    \n",
    "    // Get the timing of the computation in the current context (CPU)\n",
    "    let cpu_timing = getMedianExecutionTime {\n",
    "        cpu_result = runTestComputation()\n",
    "    }\n",
    "    \n",
    "    // Now get the timing of using the default device placment behavior.\n",
    "    let default_timing = getMedianExecutionTime {\n",
    "        withDefaultDevice() {\n",
    "            default_result = runTestComputation()\n",
    "        }\n",
    "    }\n",
    "    \n",
    "    // Compute the means.\n",
    "    let cpu_mean = cpu_result!.mean()\n",
    "    let default_mean = default_result!.mean()\n",
    "    \n",
    "    print(\"CPU: \\(getTimeString(cpu_timing)) Result Mean: \\(cpu_mean)\")\n",
    "    \n",
    "    // The default device will be a \n",
    "    print(\"Default: \\(getTimeString(default_timing)) Result Mean: \\(default_mean)\")\n",
    "}\n"
   ]
  },
  {
   "cell_type": "code",
   "execution_count": null,
   "metadata": {},
   "outputs": [],
   "source": []
  }
 ],
 "metadata": {
  "colab": {
   "collapsed_sections": [],
   "name": "Swift for TensorFlow: walkthrough",
   "provenance": [],
   "toc_visible": true,
   "version": "0.3.2"
  },
  "kernelspec": {
   "display_name": "Swift",
   "language": "swift",
   "name": "swift"
  },
  "language_info": {
   "file_extension": ".swift",
   "mimetype": "text/x-swift",
   "name": "swift",
   "version": ""
  }
 },
 "nbformat": 4,
 "nbformat_minor": 1
}
