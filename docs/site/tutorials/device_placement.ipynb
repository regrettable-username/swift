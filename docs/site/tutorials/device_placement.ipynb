{
 "cells": [
  {
   "cell_type": "markdown",
   "metadata": {
    "colab_type": "text",
    "id": "QyCcF45zBQ3E"
   },
   "source": [
    "##### Copyright 2019 The TensorFlow Authors. [Licensed under the Apache License, Version 2.0](#scrollTo=y_UVSRtBBsJk)."
   ]
  },
  {
   "cell_type": "code",
   "execution_count": null,
   "metadata": {
    "colab": {},
    "colab_type": "code",
    "id": "CPII1rGR2rF9",
    "scrolled": true
   },
   "outputs": [],
   "source": [
    "#@title Licensed under the Apache License, Version 2.0 (the \"License\"); { display-mode: \"form\" }\n",
    "// Licensed under the Apache License, Version 2.0 (the \"License\");\n",
    "// you may not use this file except in compliance with the License.\n",
    "// You may obtain a copy of the License at\n",
    "//\n",
    "// https://www.apache.org/licenses/LICENSE-2.0\n",
    "//\n",
    "// Unless required by applicable law or agreed to in writing, software\n",
    "// distributed under the License is distributed on an \"AS IS\" BASIS,\n",
    "// WITHOUT WARRANTIES OR CONDITIONS OF ANY KIND, either express or implied.\n",
    "// See the License for the specific language governing permissions and\n",
    "// limitations under the License."
   ]
  },
  {
   "cell_type": "markdown",
   "metadata": {
    "colab_type": "text",
    "id": "zBH72IXMJ3JJ"
   },
   "source": [
    "<table class=\"tfo-notebook-buttons\" align=\"left\">\n",
    "  <td>\n",
    "    <a target=\"_blank\" href=\"https://www.tensorflow.org/swift/tutorials/model_training_walkthrough\"><img src=\"https://www.tensorflow.org/images/tf_logo_32px.png\" />View on TensorFlow.org</a>\n",
    "  </td>\n",
    "  <td>\n",
    "    <a target=\"_blank\" href=\"https://colab.research.google.com/github/tensorflow/swift/blob/master/docs/site/tutorials/model_training_walkthrough.ipynb\"><img src=\"https://www.tensorflow.org/images/colab_logo_32px.png\" />Run in Google Colab</a>\n",
    "  </td>\n",
    "  <td>\n",
    "    <a target=\"_blank\" href=\"https://github.com/tensorflow/swift/blob/master/docs/site/tutorials/model_training_walkthrough.ipynb\"><img src=\"https://www.tensorflow.org/images/GitHub-Mark-32px.png\" />View source on GitHub</a>\n",
    "  </td>\n",
    "</table>"
   ]
  },
  {
   "cell_type": "markdown",
   "metadata": {
    "colab_type": "text",
    "id": "JtEZ1pCPn--z"
   },
   "source": [
    "# Device placement APIs tutorial"
   ]
  },
  {
   "cell_type": "markdown",
   "metadata": {},
   "source": [
    "This tutorial demonstrates how to use the device placement APIs in Swift for TensorFlow. Device placement APIs allow you to run operations on a specific device, for example, on a CPU or a GPU."
   ]
  },
  {
   "cell_type": "markdown",
   "metadata": {
    "colab_type": "text",
    "id": "1J3AuPBT9gyR"
   },
   "source": [
    "### Configure imports\n",
    "\n",
    "Import TensorFlow and Dispatch"
   ]
  },
  {
   "cell_type": "code",
   "execution_count": 9,
   "metadata": {
    "colab": {},
    "colab_type": "code",
    "id": "wr5A5WvthvZ0",
    "scrolled": true
   },
   "outputs": [],
   "source": [
    "import TensorFlow\n",
    "import Dispatch"
   ]
  },
  {
   "cell_type": "markdown",
   "metadata": {},
   "source": [
    "### Set up some timing utility functions"
   ]
  },
  {
   "cell_type": "markdown",
   "metadata": {},
   "source": [
    "We'll use this function to run our code multiple times and return the median execution time."
   ]
  },
  {
   "cell_type": "code",
   "execution_count": 10,
   "metadata": {},
   "outputs": [],
   "source": [
    "func getMedianExecutionTime(iterationCount: UInt = 10, _ verbose:Bool = false, _ function: () -> ()) -> Double {\n",
    "    \n",
    "    // An array to keep track of each execution timing.\n",
    "    var timings: [Double] = []\n",
    "    \n",
    "    // Run the test iterationCount times, storing each timing in our array.\n",
    "    for i in 0..<iterationCount {\n",
    "        let start = DispatchTime.now()\n",
    "        function()\n",
    "        let end = DispatchTime.now()\n",
    "        timings.append(Double(end.uptimeNanoseconds - start.uptimeNanoseconds))        \n",
    "    }\n",
    "    \n",
    "    // If verbose mode is enabled, print every single timing.\n",
    "    if verbose {\n",
    "        print(\"Timings: \\(timings.map() {timeDescription($0)}))\")        \n",
    "    }\n",
    "\n",
    "    // Compute and return the median time.\n",
    "    let n = timings.count\n",
    "    let sortedTimings = timings.sorted()\n",
    "    var medianTime = 0.0\n",
    "    \n",
    "    if n % 2 == 0 {    \n",
    "        medianTime = (sortedTimings[n / 2] + sortedTimings[(n / 2) - 1]) / 2.0\n",
    "    } else {\n",
    "        medianTime = sortedTimings[n / 2 - 1]\n",
    "    }\n",
    "    \n",
    "    return medianTime\n",
    "}\n",
    "\n",
    "// Used for printing the result in a useful manner.\n",
    "func timeDescription(_ nanoseconds: Double) -> String {\n",
    "    switch nanoseconds {\n",
    "        case ..<1e3:\n",
    "            return \"\\(nanoseconds) ns\"\n",
    "        case ..<1e6:\n",
    "            return \"\\(nanoseconds/1e3) µs\"\n",
    "        case ..<1e9:\n",
    "            return \"\\(nanoseconds/1e6) ms\"\n",
    "        default:\n",
    "            return \"\\(nanoseconds/1e9) seconds\" \n",
    "    }        \n",
    "}"
   ]
  },
  {
   "cell_type": "markdown",
   "metadata": {},
   "source": [
    "### Define a computation operation"
   ]
  },
  {
   "cell_type": "markdown",
   "metadata": {},
   "source": [
    "We'll reuse the same operation for each test for consistency. Multiply two 1000 by 1000 tensors."
   ]
  },
  {
   "cell_type": "code",
   "execution_count": 11,
   "metadata": {},
   "outputs": [],
   "source": [
    "func runTestComputation() -> Tensor<Float> {\n",
    "    // Create two 1000x1000 tensors sampled from a random normal distribution.\n",
    "    let x = Tensor<Float>(randomNormal: [1000, 1000])\n",
    "    let w = Tensor<Float>(randomNormal: [1000, 1000])\n",
    "    \n",
    "    // Multiply them together and return the result.\n",
    "    return w * x\n",
    "}"
   ]
  },
  {
   "cell_type": "markdown",
   "metadata": {},
   "source": [
    "### Use the `withDevice(_:_:perform:)` API to run on the CPU"
   ]
  },
  {
   "cell_type": "code",
   "execution_count": 12,
   "metadata": {},
   "outputs": [
    {
     "name": "stdout",
     "output_type": "stream",
     "text": [
      "Median CPU Timing: 4.1012375 ms\r\n",
      "Mean of Result Tensor: -0.0005761595\r\n"
     ]
    }
   ],
   "source": [
    "// Let's hold on to the result for later use to simulate a realistic scenario.\n",
    "var cpuResult:Tensor<Float>?\n",
    "\n",
    "// Wrap everything in a timing block to get the median execution time.\n",
    "var cpuTiming = getMedianExecutionTime { \n",
    "    \n",
    "    // This will execute the operation on the CPU.\n",
    "    cpuResult = withDevice(.cpu, 0) { () -> Tensor<Float> in\n",
    "        return runTestComputation()\n",
    "    }\n",
    "}\n",
    "\n",
    "// Print the median time it took on the CPU.\n",
    "print(\"Median CPU Timing: \\(timeDescription(cpuTiming))\")\n",
    "\n",
    "// Print the scalar-valued mean of the elements within the resulting Tensor.\n",
    "print(\"Mean of Result Tensor: \\(cpuResult!.mean())\")"
   ]
  },
  {
   "cell_type": "markdown",
   "metadata": {},
   "source": [
    "### Now try running on the GPU"
   ]
  },
  {
   "cell_type": "markdown",
   "metadata": {},
   "source": [
    "***Note:*** In order to use a GPU in Colaboratory, you need to:\n",
    "1. Go to ***Runtime > Change runtime type***\n",
    "2. Click on the Dropdown Menu titled ***'Hardware accelerator'***.\n",
    "3. Select ***GPU*** from the list.\n",
    "4. Click the ***Save*** button at the bottom of the dialog.\n",
    "5. Ensure that your notebook has the 'Connected' status in the upper-righthand corner of the notebook."
   ]
  },
  {
   "cell_type": "code",
   "execution_count": 13,
   "metadata": {},
   "outputs": [
    {
     "name": "stdout",
     "output_type": "stream",
     "text": [
      "Median GPU Timing: 168.635 µs\n",
      "Mean of Result Tensor: -0.0007909669\n"
     ]
    }
   ],
   "source": [
    "// Just like before, let's hold onto the result.\n",
    "var gpuResult:Tensor<Float>?\n",
    "\n",
    "let gpuTiming = getMedianExecutionTime { \n",
    "    gpuResult = withDevice(.gpu, 0) { () -> Tensor<Float> in\n",
    "        return runTestComputation()\n",
    "    }\n",
    "}\n",
    "\n",
    "// Print the median time it took on the GPU.\n",
    "print(\"Median GPU Timing: \\(timeDescription(gpuTiming))\")\n",
    "\n",
    "// Print the scalar-valued mean of the elements within the resulting Tensor.\n",
    "print(\"Mean of Result Tensor: \\(gpuResult!.mean())\")"
   ]
  },
  {
   "cell_type": "markdown",
   "metadata": {},
   "source": [
    "### Use `withDefaultDevice(perform:)` to force the default device placement behavior"
   ]
  },
  {
   "cell_type": "markdown",
   "metadata": {},
   "source": [
    "You can use `withDefaultDevice(perform:)` to tell Swift for TensorFlow to use the default device placement behavior. For example, if you're in the middle of a  `withDevice(_:_:perform:)` call on the CPU, you can nest a  `withDefaultDevice(perform:)` call to ensure an operation is performed with the default device placement behavior."
   ]
  },
  {
   "cell_type": "code",
   "execution_count": 14,
   "metadata": {},
   "outputs": [
    {
     "name": "stdout",
     "output_type": "stream",
     "text": [
      "CPU: 4.029717 ms Result Mean: -0.0013383538\r\n",
      "Default: 94.1 µs Result Mean: -0.0015097325\r\n"
     ]
    }
   ],
   "source": [
    "// Start out on the CPU.\n",
    "withDevice(.cpu, 0) { \n",
    "    \n",
    "    // We'll save the results for later.\n",
    "    var cpuResult:Tensor<Float>? \n",
    "    var defaultResult:Tensor<Float>?\n",
    "    \n",
    "    // Get the timing of the computation in the current context (CPU)\n",
    "    let cpuTiming = getMedianExecutionTime {\n",
    "        cpuResult = runTestComputation()\n",
    "    }\n",
    "    \n",
    "    // Now get the timing of using the default device placment behavior.\n",
    "    let defaultTiming = getMedianExecutionTime {\n",
    "        withDefaultDevice() {\n",
    "            defaultResult = runTestComputation()\n",
    "        }\n",
    "    }\n",
    "    \n",
    "    // Compute the means.\n",
    "    let cpuMean = cpuResult!.mean()\n",
    "    let defaultMean = defaultResult!.mean()\n",
    "    \n",
    "    print(\"CPU: \\(timeDescription(cpuTiming)) Result Mean: \\(cpuMean)\")\n",
    "    \n",
    "    // The default device will be a \n",
    "    print(\"Default: \\(timeDescription(defaultTiming)) Result Mean: \\(defaultMean)\")\n",
    "}"
   ]
  }
 ],
 "metadata": {
  "colab": {
   "collapsed_sections": [],
   "name": "Swift for TensorFlow: walkthrough",
   "provenance": [],
   "toc_visible": true,
   "version": "0.3.2"
  },
  "kernelspec": {
   "display_name": "Swift",
   "language": "swift",
   "name": "swift"
  },
  "language_info": {
   "file_extension": ".swift",
   "mimetype": "text/x-swift",
   "name": "swift",
   "version": ""
  }
 },
 "nbformat": 4,
 "nbformat_minor": 1
}
